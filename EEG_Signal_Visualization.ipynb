{
  "nbformat": 4,
  "nbformat_minor": 0,
  "metadata": {
    "colab": {
      "provenance": []
    },
    "kernelspec": {
      "name": "python3",
      "display_name": "Python 3"
    },
    "language_info": {
      "name": "python"
    }
  },
  "cells": [
    {
      "cell_type": "code",
      "execution_count": null,
      "metadata": {
        "id": "U2zJktCKLbfH",
        "colab": {
          "base_uri": "https://localhost:8080/"
        },
        "outputId": "fcbfed7a-580e-41a5-8643-acb53ae3878c"
      },
      "outputs": [
        {
          "output_type": "stream",
          "name": "stdout",
          "text": [
            "Requirement already satisfied: mne in /usr/local/lib/python3.10/dist-packages (1.5.1)\n",
            "Requirement already satisfied: numpy>=1.15.4 in /usr/local/lib/python3.10/dist-packages (from mne) (1.23.5)\n",
            "Requirement already satisfied: scipy>=1.6.3 in /usr/local/lib/python3.10/dist-packages (from mne) (1.11.3)\n",
            "Requirement already satisfied: matplotlib>=3.4.0 in /usr/local/lib/python3.10/dist-packages (from mne) (3.7.1)\n",
            "Requirement already satisfied: tqdm in /usr/local/lib/python3.10/dist-packages (from mne) (4.66.1)\n",
            "Requirement already satisfied: pooch>=1.5 in /usr/local/lib/python3.10/dist-packages (from mne) (1.8.0)\n",
            "Requirement already satisfied: decorator in /usr/local/lib/python3.10/dist-packages (from mne) (4.4.2)\n",
            "Requirement already satisfied: packaging in /usr/local/lib/python3.10/dist-packages (from mne) (23.2)\n",
            "Requirement already satisfied: jinja2 in /usr/local/lib/python3.10/dist-packages (from mne) (3.1.2)\n",
            "Requirement already satisfied: contourpy>=1.0.1 in /usr/local/lib/python3.10/dist-packages (from matplotlib>=3.4.0->mne) (1.1.1)\n",
            "Requirement already satisfied: cycler>=0.10 in /usr/local/lib/python3.10/dist-packages (from matplotlib>=3.4.0->mne) (0.12.1)\n",
            "Requirement already satisfied: fonttools>=4.22.0 in /usr/local/lib/python3.10/dist-packages (from matplotlib>=3.4.0->mne) (4.43.1)\n",
            "Requirement already satisfied: kiwisolver>=1.0.1 in /usr/local/lib/python3.10/dist-packages (from matplotlib>=3.4.0->mne) (1.4.5)\n",
            "Requirement already satisfied: pillow>=6.2.0 in /usr/local/lib/python3.10/dist-packages (from matplotlib>=3.4.0->mne) (9.4.0)\n",
            "Requirement already satisfied: pyparsing>=2.3.1 in /usr/local/lib/python3.10/dist-packages (from matplotlib>=3.4.0->mne) (3.1.1)\n",
            "Requirement already satisfied: python-dateutil>=2.7 in /usr/local/lib/python3.10/dist-packages (from matplotlib>=3.4.0->mne) (2.8.2)\n",
            "Requirement already satisfied: platformdirs>=2.5.0 in /usr/local/lib/python3.10/dist-packages (from pooch>=1.5->mne) (3.11.0)\n",
            "Requirement already satisfied: requests>=2.19.0 in /usr/local/lib/python3.10/dist-packages (from pooch>=1.5->mne) (2.31.0)\n",
            "Requirement already satisfied: MarkupSafe>=2.0 in /usr/local/lib/python3.10/dist-packages (from jinja2->mne) (2.1.3)\n",
            "Requirement already satisfied: six>=1.5 in /usr/local/lib/python3.10/dist-packages (from python-dateutil>=2.7->matplotlib>=3.4.0->mne) (1.16.0)\n",
            "Requirement already satisfied: charset-normalizer<4,>=2 in /usr/local/lib/python3.10/dist-packages (from requests>=2.19.0->pooch>=1.5->mne) (3.3.1)\n",
            "Requirement already satisfied: idna<4,>=2.5 in /usr/local/lib/python3.10/dist-packages (from requests>=2.19.0->pooch>=1.5->mne) (3.4)\n",
            "Requirement already satisfied: urllib3<3,>=1.21.1 in /usr/local/lib/python3.10/dist-packages (from requests>=2.19.0->pooch>=1.5->mne) (2.0.7)\n",
            "Requirement already satisfied: certifi>=2017.4.17 in /usr/local/lib/python3.10/dist-packages (from requests>=2.19.0->pooch>=1.5->mne) (2023.7.22)\n"
          ]
        }
      ],
      "source": [
        "!pip install mne"
      ]
    },
    {
      "cell_type": "code",
      "source": [
        "import os\n",
        "import numpy as np\n",
        "import mne\n",
        "import pandas as pd\n",
        "import matplotlib.pyplot as plt"
      ],
      "metadata": {
        "id": "BCcmoGcKMeeb"
      },
      "execution_count": null,
      "outputs": []
    },
    {
      "cell_type": "code",
      "source": [
        "from google.colab import drive\n",
        "drive.mount('/content/drive')"
      ],
      "metadata": {
        "colab": {
          "base_uri": "https://localhost:8080/"
        },
        "id": "LpaFXGoA5Dr5",
        "outputId": "16d9c29d-b393-4a97-c252-c2b358acfe4f"
      },
      "execution_count": null,
      "outputs": [
        {
          "output_type": "stream",
          "name": "stdout",
          "text": [
            "Drive already mounted at /content/drive; to attempt to forcibly remount, call drive.mount(\"/content/drive\", force_remount=True).\n"
          ]
        }
      ]
    },
    {
      "cell_type": "code",
      "source": [
        "adhd_directory='/content/drive/MyDrive/ADHD CSV 2/ADHD/'\n",
        "control_directory='/content/drive/MyDrive/ADHD CSV 2/Control/'\n",
        "directory_files1=os.listdir(adhd_directory)\n",
        "directory_files2=os.listdir(control_directory)\n",
        "i=1\n",
        "for file1 in directory_files1:\n",
        "  User_frame = pd.read_csv(os.path.join(adhd_directory,file1), sep=',')\n",
        "  User_frame1=User_frame.drop('Unnamed: 0',axis=1)\n",
        "  User_frame1.head()\n",
        "  data= pd.DataFrame.to_numpy(User_frame1, dtype= np.float64)\n",
        "  ch_names = [\"Fz\" , \"Cz\", \"Pz\", \"C3\", \"T3\", \"C4\", \"T4\", \"Fp1\", \"Fp2\", \"F3\", \"F4\", \"F7\", \"F8\", \"P3\", \"P4\", \"T5\", \"T6\", \"O1\", \"O2\"]\n",
        "  ch_types = ['eeg', 'eeg', 'eeg', 'eeg', 'eeg','eeg', 'eeg', 'eeg', 'eeg', 'eeg', 'eeg','eeg', 'eeg', 'eeg', 'eeg', 'eeg', 'eeg','eeg', 'eeg']\n",
        "  sampling_freq = 128\n",
        "  info = mne.create_info(ch_names= ch_names, ch_types= ch_types, sfreq= sampling_freq)\n",
        "  data = User_frame1.transpose().to_numpy()\n",
        "  User_raw = mne.io.RawArray(data, info)\n",
        "  User_raw.apply_function(lambda x: x * 1e-6)\n",
        "  print(\"\\n\\nPlot of ADHD Patient\",i)\n",
        "  User_raw.plot(scalings=dict(eeg=1000e-6))\n",
        "  i=i+1\n",
        "\n"
      ],
      "metadata": {
        "id": "_bIBnuaYq3zI"
      },
      "execution_count": null,
      "outputs": []
    },
    {
      "cell_type": "code",
      "source": [
        "adhd_directory='/content/drive/MyDrive/ADHD CSV 2/ADHD/'\n",
        "control_directory='/content/drive/MyDrive/ADHD CSV 2/Control/'\n",
        "directory_files2=os.listdir(control_directory)\n",
        "i=1\n",
        "for file2 in directory_files2:\n",
        "  User_frame = pd.read_csv(os.path.join(control_directory,file2), sep=',')\n",
        "  User_frame1=User_frame.drop('Unnamed: 0',axis=1)\n",
        "  User_frame1.head()\n",
        "  data= pd.DataFrame.to_numpy(User_frame1, dtype= np.float64)\n",
        "  ch_names = [\"Fz\" , \"Cz\", \"Pz\", \"C3\", \"T3\", \"C4\", \"T4\", \"Fp1\", \"Fp2\", \"F3\", \"F4\", \"F7\", \"F8\", \"P3\", \"P4\", \"T5\", \"T6\", \"O1\", \"O2\"]\n",
        "  ch_types = ['eeg', 'eeg', 'eeg', 'eeg', 'eeg','eeg', 'eeg', 'eeg', 'eeg', 'eeg', 'eeg','eeg', 'eeg', 'eeg', 'eeg', 'eeg', 'eeg','eeg', 'eeg']\n",
        "  sampling_freq = 128\n",
        "  info = mne.create_info(ch_names= ch_names, ch_types= ch_types, sfreq= sampling_freq)\n",
        "  data = User_frame1.transpose().to_numpy()\n",
        "  User_raw = mne.io.RawArray(data, info)\n",
        "  User_raw.apply_function(lambda x: x * 1e-6)\n",
        "  print(\"\\n\\nPlot of Control Patient\",i)\n",
        "  User_raw.plot(scalings=dict(eeg=1000e-6))\n",
        "  i=i+1"
      ],
      "metadata": {
        "id": "nNgIiF1UvrnV"
      },
      "execution_count": null,
      "outputs": []
    }
  ]
}